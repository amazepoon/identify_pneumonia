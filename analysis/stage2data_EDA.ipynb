{
 "cells": [
  {
   "cell_type": "code",
   "execution_count": 1,
   "metadata": {
    "_cell_guid": "b1076dfc-b9ad-4769-8c92-a6c4dae69d19",
    "_uuid": "8f2839f25d086af736a60e9eeb907d3b93b6e0e5"
   },
   "outputs": [
    {
     "name": "stdout",
     "output_type": "stream",
     "text": [
      "['stage_2_test_images', 'stage_2_sample_submission.csv', 'stage_2_detailed_class_info.csv', 'stage_2_train_images', 'stage_2_train_labels.csv', 'GCP Credits Request Link - RSNA.txt']\n"
     ]
    }
   ],
   "source": [
    "import numpy as np \n",
    "import pandas as pd\n",
    "import matplotlib.pyplot as plt\n",
    "import seaborn as sns\n",
    "from tqdm import tqdm_notebook\n",
    "import pydicom as dcm\n",
    "import os\n",
    "print(os.listdir(\"../input\"))"
   ]
  },
  {
   "cell_type": "code",
   "execution_count": 2,
   "metadata": {
    "_cell_guid": "79c7e3d0-c299-4dcb-8224-4455121ee9b0",
    "_uuid": "d629ff2d2480ee46fbb7e2d37f6b5fab8052498a"
   },
   "outputs": [],
   "source": [
    "labels = pd.read_csv(\"../input/stage_2_train_labels.csv\")\n",
    "class_info  = pd.read_csv(\"../input/stage_2_detailed_class_info.csv\")"
   ]
  },
  {
   "cell_type": "code",
   "execution_count": 3,
   "metadata": {
    "_uuid": "3ece54f311019dfabc98c89e975d453f799aa56b"
   },
   "outputs": [
    {
     "data": {
      "text/html": [
       "<div>\n",
       "<style scoped>\n",
       "    .dataframe tbody tr th:only-of-type {\n",
       "        vertical-align: middle;\n",
       "    }\n",
       "\n",
       "    .dataframe tbody tr th {\n",
       "        vertical-align: top;\n",
       "    }\n",
       "\n",
       "    .dataframe thead th {\n",
       "        text-align: right;\n",
       "    }\n",
       "</style>\n",
       "<table border=\"1\" class=\"dataframe\">\n",
       "  <thead>\n",
       "    <tr style=\"text-align: right;\">\n",
       "      <th></th>\n",
       "      <th>patientId</th>\n",
       "      <th>x</th>\n",
       "      <th>y</th>\n",
       "      <th>width</th>\n",
       "      <th>height</th>\n",
       "      <th>Target</th>\n",
       "    </tr>\n",
       "  </thead>\n",
       "  <tbody>\n",
       "    <tr>\n",
       "      <th>0</th>\n",
       "      <td>0004cfab-14fd-4e49-80ba-63a80b6bddd6</td>\n",
       "      <td>NaN</td>\n",
       "      <td>NaN</td>\n",
       "      <td>NaN</td>\n",
       "      <td>NaN</td>\n",
       "      <td>0</td>\n",
       "    </tr>\n",
       "    <tr>\n",
       "      <th>1</th>\n",
       "      <td>00313ee0-9eaa-42f4-b0ab-c148ed3241cd</td>\n",
       "      <td>NaN</td>\n",
       "      <td>NaN</td>\n",
       "      <td>NaN</td>\n",
       "      <td>NaN</td>\n",
       "      <td>0</td>\n",
       "    </tr>\n",
       "    <tr>\n",
       "      <th>2</th>\n",
       "      <td>00322d4d-1c29-4943-afc9-b6754be640eb</td>\n",
       "      <td>NaN</td>\n",
       "      <td>NaN</td>\n",
       "      <td>NaN</td>\n",
       "      <td>NaN</td>\n",
       "      <td>0</td>\n",
       "    </tr>\n",
       "    <tr>\n",
       "      <th>3</th>\n",
       "      <td>003d8fa0-6bf1-40ed-b54c-ac657f8495c5</td>\n",
       "      <td>NaN</td>\n",
       "      <td>NaN</td>\n",
       "      <td>NaN</td>\n",
       "      <td>NaN</td>\n",
       "      <td>0</td>\n",
       "    </tr>\n",
       "    <tr>\n",
       "      <th>4</th>\n",
       "      <td>00436515-870c-4b36-a041-de91049b9ab4</td>\n",
       "      <td>264.0</td>\n",
       "      <td>152.0</td>\n",
       "      <td>213.0</td>\n",
       "      <td>379.0</td>\n",
       "      <td>1</td>\n",
       "    </tr>\n",
       "  </tbody>\n",
       "</table>\n",
       "</div>"
      ],
      "text/plain": [
       "                              patientId      x   ...    height  Target\n",
       "0  0004cfab-14fd-4e49-80ba-63a80b6bddd6    NaN   ...       NaN       0\n",
       "1  00313ee0-9eaa-42f4-b0ab-c148ed3241cd    NaN   ...       NaN       0\n",
       "2  00322d4d-1c29-4943-afc9-b6754be640eb    NaN   ...       NaN       0\n",
       "3  003d8fa0-6bf1-40ed-b54c-ac657f8495c5    NaN   ...       NaN       0\n",
       "4  00436515-870c-4b36-a041-de91049b9ab4  264.0   ...     379.0       1\n",
       "\n",
       "[5 rows x 6 columns]"
      ]
     },
     "execution_count": 3,
     "metadata": {},
     "output_type": "execute_result"
    }
   ],
   "source": [
    "labels.head()"
   ]
  },
  {
   "cell_type": "code",
   "execution_count": 4,
   "metadata": {
    "_uuid": "71882a277a4f7df42f03a6867b88a4a8df2bd705"
   },
   "outputs": [
    {
     "data": {
      "text/html": [
       "<div>\n",
       "<style scoped>\n",
       "    .dataframe tbody tr th:only-of-type {\n",
       "        vertical-align: middle;\n",
       "    }\n",
       "\n",
       "    .dataframe tbody tr th {\n",
       "        vertical-align: top;\n",
       "    }\n",
       "\n",
       "    .dataframe thead th {\n",
       "        text-align: right;\n",
       "    }\n",
       "</style>\n",
       "<table border=\"1\" class=\"dataframe\">\n",
       "  <thead>\n",
       "    <tr style=\"text-align: right;\">\n",
       "      <th></th>\n",
       "      <th>patientId</th>\n",
       "      <th>class</th>\n",
       "    </tr>\n",
       "  </thead>\n",
       "  <tbody>\n",
       "    <tr>\n",
       "      <th>0</th>\n",
       "      <td>0004cfab-14fd-4e49-80ba-63a80b6bddd6</td>\n",
       "      <td>No Lung Opacity / Not Normal</td>\n",
       "    </tr>\n",
       "    <tr>\n",
       "      <th>1</th>\n",
       "      <td>00313ee0-9eaa-42f4-b0ab-c148ed3241cd</td>\n",
       "      <td>No Lung Opacity / Not Normal</td>\n",
       "    </tr>\n",
       "    <tr>\n",
       "      <th>2</th>\n",
       "      <td>00322d4d-1c29-4943-afc9-b6754be640eb</td>\n",
       "      <td>No Lung Opacity / Not Normal</td>\n",
       "    </tr>\n",
       "    <tr>\n",
       "      <th>3</th>\n",
       "      <td>003d8fa0-6bf1-40ed-b54c-ac657f8495c5</td>\n",
       "      <td>Normal</td>\n",
       "    </tr>\n",
       "    <tr>\n",
       "      <th>4</th>\n",
       "      <td>00436515-870c-4b36-a041-de91049b9ab4</td>\n",
       "      <td>Lung Opacity</td>\n",
       "    </tr>\n",
       "  </tbody>\n",
       "</table>\n",
       "</div>"
      ],
      "text/plain": [
       "                              patientId                         class\n",
       "0  0004cfab-14fd-4e49-80ba-63a80b6bddd6  No Lung Opacity / Not Normal\n",
       "1  00313ee0-9eaa-42f4-b0ab-c148ed3241cd  No Lung Opacity / Not Normal\n",
       "2  00322d4d-1c29-4943-afc9-b6754be640eb  No Lung Opacity / Not Normal\n",
       "3  003d8fa0-6bf1-40ed-b54c-ac657f8495c5                        Normal\n",
       "4  00436515-870c-4b36-a041-de91049b9ab4                  Lung Opacity"
      ]
     },
     "execution_count": 4,
     "metadata": {},
     "output_type": "execute_result"
    }
   ],
   "source": [
    "class_info.head()"
   ]
  },
  {
   "cell_type": "code",
   "execution_count": 5,
   "metadata": {
    "_uuid": "a76b690168c10be031223c63310b0fc7e04827d5"
   },
   "outputs": [],
   "source": [
    "labels.drop(['x', 'y', 'width', 'height'], axis=1, inplace=True)"
   ]
  },
  {
   "cell_type": "code",
   "execution_count": 6,
   "metadata": {
    "_uuid": "aaa0a442f069c8ea2f4079c392c4e5f379fbdfcc"
   },
   "outputs": [
    {
     "data": {
      "text/plain": [
       "26684"
      ]
     },
     "execution_count": 6,
     "metadata": {},
     "output_type": "execute_result"
    }
   ],
   "source": [
    "len(labels.patientId.unique())"
   ]
  },
  {
   "cell_type": "code",
   "execution_count": 7,
   "metadata": {
    "_uuid": "6397541b7df7134559f0473716a013b18406fa6c"
   },
   "outputs": [
    {
     "name": "stdout",
     "output_type": "stream",
     "text": [
      "Number of images in train set: 26684\n"
     ]
    }
   ],
   "source": [
    "#There are 30227 rows of data and only 26684 unique patients in the dataset, lets see the number of images in the train set to determine if the labels set has any duplicates.\n",
    "image_train_path = os.listdir('../input/stage_2_train_images')\n",
    "print(\"Number of images in train set:\", len(image_train_path))\n",
    "\n"
   ]
  },
  {
   "cell_type": "code",
   "execution_count": 8,
   "metadata": {
    "_uuid": "ea2828b12902c0a414c42d77a110fe006c68b12a"
   },
   "outputs": [],
   "source": [
    "#There are only 26684 images in the train set, so there are duplicates in the datasets\n",
    "\n",
    "labels_1 = labels.groupby('patientId')['patientId'].count().reset_index(name = 'counts')\n",
    "labels_2 = labels_1.loc[labels_1.counts > 1, ]\n",
    "dup_patient_list = list(labels_2['patientId'])"
   ]
  },
  {
   "cell_type": "code",
   "execution_count": 9,
   "metadata": {
    "_uuid": "e79a2adfe825de3c8dab06f11db2657852a6a759"
   },
   "outputs": [],
   "source": [
    "dup_patients = labels[labels['patientId'].isin(dup_patient_list)]\n",
    "dup_patients.Target.unique() # all the duplicate patient IDs have same Target of 1 so its safe to drop the duplicates\n",
    "labels.drop_duplicates(inplace=True)"
   ]
  },
  {
   "cell_type": "code",
   "execution_count": 10,
   "metadata": {
    "_uuid": "89a0f1ca48268c078136845b45e977d356e9e9e4"
   },
   "outputs": [
    {
     "data": {
      "text/plain": [
       "(26684, 2)"
      ]
     },
     "execution_count": 10,
     "metadata": {},
     "output_type": "execute_result"
    }
   ],
   "source": [
    "labels.shape"
   ]
  },
  {
   "cell_type": "code",
   "execution_count": 11,
   "metadata": {
    "_uuid": "4b3c91dd4b39792a15833017203f09362ec36cb1"
   },
   "outputs": [
    {
     "data": {
      "text/html": [
       "<div>\n",
       "<style scoped>\n",
       "    .dataframe tbody tr th:only-of-type {\n",
       "        vertical-align: middle;\n",
       "    }\n",
       "\n",
       "    .dataframe tbody tr th {\n",
       "        vertical-align: top;\n",
       "    }\n",
       "\n",
       "    .dataframe thead th {\n",
       "        text-align: right;\n",
       "    }\n",
       "</style>\n",
       "<table border=\"1\" class=\"dataframe\">\n",
       "  <thead>\n",
       "    <tr style=\"text-align: right;\">\n",
       "      <th></th>\n",
       "      <th>patientId</th>\n",
       "      <th>class</th>\n",
       "    </tr>\n",
       "  </thead>\n",
       "  <tbody>\n",
       "    <tr>\n",
       "      <th>0</th>\n",
       "      <td>0004cfab-14fd-4e49-80ba-63a80b6bddd6</td>\n",
       "      <td>No Lung Opacity / Not Normal</td>\n",
       "    </tr>\n",
       "    <tr>\n",
       "      <th>1</th>\n",
       "      <td>00313ee0-9eaa-42f4-b0ab-c148ed3241cd</td>\n",
       "      <td>No Lung Opacity / Not Normal</td>\n",
       "    </tr>\n",
       "    <tr>\n",
       "      <th>2</th>\n",
       "      <td>00322d4d-1c29-4943-afc9-b6754be640eb</td>\n",
       "      <td>No Lung Opacity / Not Normal</td>\n",
       "    </tr>\n",
       "    <tr>\n",
       "      <th>3</th>\n",
       "      <td>003d8fa0-6bf1-40ed-b54c-ac657f8495c5</td>\n",
       "      <td>Normal</td>\n",
       "    </tr>\n",
       "    <tr>\n",
       "      <th>4</th>\n",
       "      <td>00436515-870c-4b36-a041-de91049b9ab4</td>\n",
       "      <td>Lung Opacity</td>\n",
       "    </tr>\n",
       "  </tbody>\n",
       "</table>\n",
       "</div>"
      ],
      "text/plain": [
       "                              patientId                         class\n",
       "0  0004cfab-14fd-4e49-80ba-63a80b6bddd6  No Lung Opacity / Not Normal\n",
       "1  00313ee0-9eaa-42f4-b0ab-c148ed3241cd  No Lung Opacity / Not Normal\n",
       "2  00322d4d-1c29-4943-afc9-b6754be640eb  No Lung Opacity / Not Normal\n",
       "3  003d8fa0-6bf1-40ed-b54c-ac657f8495c5                        Normal\n",
       "4  00436515-870c-4b36-a041-de91049b9ab4                  Lung Opacity"
      ]
     },
     "execution_count": 11,
     "metadata": {},
     "output_type": "execute_result"
    }
   ],
   "source": [
    "class_info.head()"
   ]
  },
  {
   "cell_type": "code",
   "execution_count": 12,
   "metadata": {
    "_uuid": "91e9fe2918012390f722bab5be9156d6d066d57c"
   },
   "outputs": [
    {
     "data": {
      "text/plain": [
       "(30227, 2)"
      ]
     },
     "execution_count": 12,
     "metadata": {},
     "output_type": "execute_result"
    }
   ],
   "source": [
    "class_info.shape"
   ]
  },
  {
   "cell_type": "code",
   "execution_count": 13,
   "metadata": {
    "_uuid": "951604688f8af4c2f45652511c608d2966664c93"
   },
   "outputs": [
    {
     "data": {
      "text/plain": [
       "26684"
      ]
     },
     "execution_count": 13,
     "metadata": {},
     "output_type": "execute_result"
    }
   ],
   "source": [
    "len(class_info.patientId.unique()) # there are only 26684 unique patients in the dataset, lets see if there are any duplicates"
   ]
  },
  {
   "cell_type": "code",
   "execution_count": 14,
   "metadata": {
    "_uuid": "f92d823decf5673afa9afdfd8721bfa30e3a4a47"
   },
   "outputs": [],
   "source": [
    "class_info_1 = class_info.groupby('patientId')['patientId'].count().reset_index(name = 'counts')\n",
    "class_info_2 = class_info_1.loc[labels_1.counts > 1, ]\n",
    "dup_patient_list1 = list(class_info_2['patientId'])"
   ]
  },
  {
   "cell_type": "code",
   "execution_count": 15,
   "metadata": {
    "_uuid": "f373e575f20d0ac07d84a4c55e1ed5f4e36340bd"
   },
   "outputs": [],
   "source": [
    "dup_patients1 = class_info[class_info['patientId'].isin(dup_patient_list1)]\n",
    "dup_patients1['class'].unique() # all the duplicate patient IDs have same class of 'Lung Opacity' so its safe to drop the duplicates\n",
    "class_info.drop_duplicates(inplace=True)"
   ]
  },
  {
   "cell_type": "code",
   "execution_count": 16,
   "metadata": {
    "_uuid": "9e803139ae2b004518c398c1bd83d92bd2a28846"
   },
   "outputs": [
    {
     "data": {
      "text/plain": [
       "(26684, 2)"
      ]
     },
     "execution_count": 16,
     "metadata": {},
     "output_type": "execute_result"
    }
   ],
   "source": [
    "class_info.shape"
   ]
  },
  {
   "cell_type": "code",
   "execution_count": 17,
   "metadata": {
    "_uuid": "23f396327718c25fac02dbf54139c7f745596f45"
   },
   "outputs": [
    {
     "data": {
      "text/html": [
       "<div>\n",
       "<style scoped>\n",
       "    .dataframe tbody tr th:only-of-type {\n",
       "        vertical-align: middle;\n",
       "    }\n",
       "\n",
       "    .dataframe tbody tr th {\n",
       "        vertical-align: top;\n",
       "    }\n",
       "\n",
       "    .dataframe thead th {\n",
       "        text-align: right;\n",
       "    }\n",
       "</style>\n",
       "<table border=\"1\" class=\"dataframe\">\n",
       "  <thead>\n",
       "    <tr style=\"text-align: right;\">\n",
       "      <th></th>\n",
       "      <th>patientId</th>\n",
       "    </tr>\n",
       "    <tr>\n",
       "      <th>Target</th>\n",
       "      <th></th>\n",
       "    </tr>\n",
       "  </thead>\n",
       "  <tbody>\n",
       "    <tr>\n",
       "      <th>0</th>\n",
       "      <td>20672</td>\n",
       "    </tr>\n",
       "    <tr>\n",
       "      <th>1</th>\n",
       "      <td>6012</td>\n",
       "    </tr>\n",
       "  </tbody>\n",
       "</table>\n",
       "</div>"
      ],
      "text/plain": [
       "        patientId\n",
       "Target           \n",
       "0           20672\n",
       "1            6012"
      ]
     },
     "execution_count": 17,
     "metadata": {},
     "output_type": "execute_result"
    }
   ],
   "source": [
    "#Lets explore the two datasets\n",
    "labels.groupby('Target').count()"
   ]
  },
  {
   "cell_type": "code",
   "execution_count": 18,
   "metadata": {
    "_uuid": "56a4b2768c637a8df51fa97313fd5eb5db14c37e"
   },
   "outputs": [
    {
     "data": {
      "text/html": [
       "<div>\n",
       "<style scoped>\n",
       "    .dataframe tbody tr th:only-of-type {\n",
       "        vertical-align: middle;\n",
       "    }\n",
       "\n",
       "    .dataframe tbody tr th {\n",
       "        vertical-align: top;\n",
       "    }\n",
       "\n",
       "    .dataframe thead th {\n",
       "        text-align: right;\n",
       "    }\n",
       "</style>\n",
       "<table border=\"1\" class=\"dataframe\">\n",
       "  <thead>\n",
       "    <tr style=\"text-align: right;\">\n",
       "      <th></th>\n",
       "      <th>patientId</th>\n",
       "    </tr>\n",
       "    <tr>\n",
       "      <th>class</th>\n",
       "      <th></th>\n",
       "    </tr>\n",
       "  </thead>\n",
       "  <tbody>\n",
       "    <tr>\n",
       "      <th>Lung Opacity</th>\n",
       "      <td>6012</td>\n",
       "    </tr>\n",
       "    <tr>\n",
       "      <th>No Lung Opacity / Not Normal</th>\n",
       "      <td>11821</td>\n",
       "    </tr>\n",
       "    <tr>\n",
       "      <th>Normal</th>\n",
       "      <td>8851</td>\n",
       "    </tr>\n",
       "  </tbody>\n",
       "</table>\n",
       "</div>"
      ],
      "text/plain": [
       "                              patientId\n",
       "class                                  \n",
       "Lung Opacity                       6012\n",
       "No Lung Opacity / Not Normal      11821\n",
       "Normal                             8851"
      ]
     },
     "execution_count": 18,
     "metadata": {},
     "output_type": "execute_result"
    }
   ],
   "source": [
    "class_info.groupby('class').count()"
   ]
  },
  {
   "cell_type": "code",
   "execution_count": 19,
   "metadata": {
    "_uuid": "dfc21bbdadcfe26db5243f4bef3b35e924f6d954"
   },
   "outputs": [],
   "source": [
    "#lets merge labels and class_info\n",
    "data = labels.merge(class_info, on='patientId')"
   ]
  },
  {
   "cell_type": "code",
   "execution_count": 20,
   "metadata": {
    "_uuid": "d0be0159bdbde050872b25c69c12f655671c8f59"
   },
   "outputs": [
    {
     "data": {
      "text/plain": [
       "(26684, 3)"
      ]
     },
     "execution_count": 20,
     "metadata": {},
     "output_type": "execute_result"
    }
   ],
   "source": [
    "data.shape"
   ]
  },
  {
   "cell_type": "code",
   "execution_count": 21,
   "metadata": {
    "_uuid": "acbbb42f98cc43e18176b35bf162cc479bf8f1ae"
   },
   "outputs": [
    {
     "data": {
      "text/html": [
       "<div>\n",
       "<style scoped>\n",
       "    .dataframe tbody tr th:only-of-type {\n",
       "        vertical-align: middle;\n",
       "    }\n",
       "\n",
       "    .dataframe tbody tr th {\n",
       "        vertical-align: top;\n",
       "    }\n",
       "\n",
       "    .dataframe thead th {\n",
       "        text-align: right;\n",
       "    }\n",
       "</style>\n",
       "<table border=\"1\" class=\"dataframe\">\n",
       "  <thead>\n",
       "    <tr style=\"text-align: right;\">\n",
       "      <th></th>\n",
       "      <th>patientId</th>\n",
       "      <th>Target</th>\n",
       "      <th>class</th>\n",
       "    </tr>\n",
       "  </thead>\n",
       "  <tbody>\n",
       "    <tr>\n",
       "      <th>0</th>\n",
       "      <td>0004cfab-14fd-4e49-80ba-63a80b6bddd6</td>\n",
       "      <td>0</td>\n",
       "      <td>No Lung Opacity / Not Normal</td>\n",
       "    </tr>\n",
       "    <tr>\n",
       "      <th>1</th>\n",
       "      <td>00313ee0-9eaa-42f4-b0ab-c148ed3241cd</td>\n",
       "      <td>0</td>\n",
       "      <td>No Lung Opacity / Not Normal</td>\n",
       "    </tr>\n",
       "    <tr>\n",
       "      <th>2</th>\n",
       "      <td>00322d4d-1c29-4943-afc9-b6754be640eb</td>\n",
       "      <td>0</td>\n",
       "      <td>No Lung Opacity / Not Normal</td>\n",
       "    </tr>\n",
       "    <tr>\n",
       "      <th>3</th>\n",
       "      <td>003d8fa0-6bf1-40ed-b54c-ac657f8495c5</td>\n",
       "      <td>0</td>\n",
       "      <td>Normal</td>\n",
       "    </tr>\n",
       "    <tr>\n",
       "      <th>4</th>\n",
       "      <td>00436515-870c-4b36-a041-de91049b9ab4</td>\n",
       "      <td>1</td>\n",
       "      <td>Lung Opacity</td>\n",
       "    </tr>\n",
       "    <tr>\n",
       "      <th>5</th>\n",
       "      <td>00569f44-917d-4c86-a842-81832af98c30</td>\n",
       "      <td>0</td>\n",
       "      <td>No Lung Opacity / Not Normal</td>\n",
       "    </tr>\n",
       "    <tr>\n",
       "      <th>6</th>\n",
       "      <td>006cec2e-6ce2-4549-bffa-eadfcd1e9970</td>\n",
       "      <td>0</td>\n",
       "      <td>No Lung Opacity / Not Normal</td>\n",
       "    </tr>\n",
       "    <tr>\n",
       "      <th>7</th>\n",
       "      <td>00704310-78a8-4b38-8475-49f4573b2dbb</td>\n",
       "      <td>1</td>\n",
       "      <td>Lung Opacity</td>\n",
       "    </tr>\n",
       "    <tr>\n",
       "      <th>8</th>\n",
       "      <td>008c19e8-a820-403a-930a-bc74a4053664</td>\n",
       "      <td>0</td>\n",
       "      <td>No Lung Opacity / Not Normal</td>\n",
       "    </tr>\n",
       "    <tr>\n",
       "      <th>9</th>\n",
       "      <td>009482dc-3db5-48d4-8580-5c89c4f01334</td>\n",
       "      <td>0</td>\n",
       "      <td>Normal</td>\n",
       "    </tr>\n",
       "    <tr>\n",
       "      <th>10</th>\n",
       "      <td>009eb222-eabc-4150-8121-d5a6d06b8ebf</td>\n",
       "      <td>0</td>\n",
       "      <td>Normal</td>\n",
       "    </tr>\n",
       "    <tr>\n",
       "      <th>11</th>\n",
       "      <td>00a85be6-6eb0-421d-8acf-ff2dc0007e8a</td>\n",
       "      <td>0</td>\n",
       "      <td>Normal</td>\n",
       "    </tr>\n",
       "    <tr>\n",
       "      <th>12</th>\n",
       "      <td>00aecb01-a116-45a2-956c-08d2fa55433f</td>\n",
       "      <td>1</td>\n",
       "      <td>Lung Opacity</td>\n",
       "    </tr>\n",
       "    <tr>\n",
       "      <th>13</th>\n",
       "      <td>00c0b293-48e7-4e16-ac76-9269ba535a62</td>\n",
       "      <td>1</td>\n",
       "      <td>Lung Opacity</td>\n",
       "    </tr>\n",
       "    <tr>\n",
       "      <th>14</th>\n",
       "      <td>00d7c36e-3cdf-4df6-ac03-6c30cdc8e85b</td>\n",
       "      <td>0</td>\n",
       "      <td>No Lung Opacity / Not Normal</td>\n",
       "    </tr>\n",
       "    <tr>\n",
       "      <th>15</th>\n",
       "      <td>00f08de1-517e-4652-a04f-d1dc9ee48593</td>\n",
       "      <td>1</td>\n",
       "      <td>Lung Opacity</td>\n",
       "    </tr>\n",
       "    <tr>\n",
       "      <th>16</th>\n",
       "      <td>00f87de5-5fe0-4921-93ea-914d7e683266</td>\n",
       "      <td>0</td>\n",
       "      <td>Normal</td>\n",
       "    </tr>\n",
       "    <tr>\n",
       "      <th>17</th>\n",
       "      <td>0100515c-5204-4f31-98e0-f35e4b00004a</td>\n",
       "      <td>1</td>\n",
       "      <td>Lung Opacity</td>\n",
       "    </tr>\n",
       "    <tr>\n",
       "      <th>18</th>\n",
       "      <td>01027bc3-dc40-4165-a6c3-d6be2cb7ca34</td>\n",
       "      <td>0</td>\n",
       "      <td>Normal</td>\n",
       "    </tr>\n",
       "    <tr>\n",
       "      <th>19</th>\n",
       "      <td>010ccb9f-6d46-4380-af11-84f87397a1b8</td>\n",
       "      <td>1</td>\n",
       "      <td>Lung Opacity</td>\n",
       "    </tr>\n",
       "  </tbody>\n",
       "</table>\n",
       "</div>"
      ],
      "text/plain": [
       "                               patientId              ...                                      class\n",
       "0   0004cfab-14fd-4e49-80ba-63a80b6bddd6              ...               No Lung Opacity / Not Normal\n",
       "1   00313ee0-9eaa-42f4-b0ab-c148ed3241cd              ...               No Lung Opacity / Not Normal\n",
       "2   00322d4d-1c29-4943-afc9-b6754be640eb              ...               No Lung Opacity / Not Normal\n",
       "3   003d8fa0-6bf1-40ed-b54c-ac657f8495c5              ...                                     Normal\n",
       "4   00436515-870c-4b36-a041-de91049b9ab4              ...                               Lung Opacity\n",
       "5   00569f44-917d-4c86-a842-81832af98c30              ...               No Lung Opacity / Not Normal\n",
       "6   006cec2e-6ce2-4549-bffa-eadfcd1e9970              ...               No Lung Opacity / Not Normal\n",
       "7   00704310-78a8-4b38-8475-49f4573b2dbb              ...                               Lung Opacity\n",
       "8   008c19e8-a820-403a-930a-bc74a4053664              ...               No Lung Opacity / Not Normal\n",
       "9   009482dc-3db5-48d4-8580-5c89c4f01334              ...                                     Normal\n",
       "10  009eb222-eabc-4150-8121-d5a6d06b8ebf              ...                                     Normal\n",
       "11  00a85be6-6eb0-421d-8acf-ff2dc0007e8a              ...                                     Normal\n",
       "12  00aecb01-a116-45a2-956c-08d2fa55433f              ...                               Lung Opacity\n",
       "13  00c0b293-48e7-4e16-ac76-9269ba535a62              ...                               Lung Opacity\n",
       "14  00d7c36e-3cdf-4df6-ac03-6c30cdc8e85b              ...               No Lung Opacity / Not Normal\n",
       "15  00f08de1-517e-4652-a04f-d1dc9ee48593              ...                               Lung Opacity\n",
       "16  00f87de5-5fe0-4921-93ea-914d7e683266              ...                                     Normal\n",
       "17  0100515c-5204-4f31-98e0-f35e4b00004a              ...                               Lung Opacity\n",
       "18  01027bc3-dc40-4165-a6c3-d6be2cb7ca34              ...                                     Normal\n",
       "19  010ccb9f-6d46-4380-af11-84f87397a1b8              ...                               Lung Opacity\n",
       "\n",
       "[20 rows x 3 columns]"
      ]
     },
     "execution_count": 21,
     "metadata": {},
     "output_type": "execute_result"
    }
   ],
   "source": [
    "data.head(20)"
   ]
  },
  {
   "cell_type": "code",
   "execution_count": 22,
   "metadata": {
    "_uuid": "c0ed51e01ca4e39398c8c3a10db5cc065bf560f9"
   },
   "outputs": [
    {
     "data": {
      "text/plain": [
       "(0008, 0005) Specific Character Set              CS: 'ISO_IR 100'\n",
       "(0008, 0016) SOP Class UID                       UI: Secondary Capture Image Storage\n",
       "(0008, 0018) SOP Instance UID                    UI: 1.2.276.0.7230010.3.1.4.8323329.28530.1517874485.775526\n",
       "(0008, 0020) Study Date                          DA: '19010101'\n",
       "(0008, 0030) Study Time                          TM: '000000.00'\n",
       "(0008, 0050) Accession Number                    SH: ''\n",
       "(0008, 0060) Modality                            CS: 'CR'\n",
       "(0008, 0064) Conversion Type                     CS: 'WSD'\n",
       "(0008, 0090) Referring Physician's Name          PN: ''\n",
       "(0008, 103e) Series Description                  LO: 'view: PA'\n",
       "(0010, 0010) Patient's Name                      PN: '0004cfab-14fd-4e49-80ba-63a80b6bddd6'\n",
       "(0010, 0020) Patient ID                          LO: '0004cfab-14fd-4e49-80ba-63a80b6bddd6'\n",
       "(0010, 0030) Patient's Birth Date                DA: ''\n",
       "(0010, 0040) Patient's Sex                       CS: 'F'\n",
       "(0010, 1010) Patient's Age                       AS: '51'\n",
       "(0018, 0015) Body Part Examined                  CS: 'CHEST'\n",
       "(0018, 5101) View Position                       CS: 'PA'\n",
       "(0020, 000d) Study Instance UID                  UI: 1.2.276.0.7230010.3.1.2.8323329.28530.1517874485.775525\n",
       "(0020, 000e) Series Instance UID                 UI: 1.2.276.0.7230010.3.1.3.8323329.28530.1517874485.775524\n",
       "(0020, 0010) Study ID                            SH: ''\n",
       "(0020, 0011) Series Number                       IS: \"1\"\n",
       "(0020, 0013) Instance Number                     IS: \"1\"\n",
       "(0020, 0020) Patient Orientation                 CS: ''\n",
       "(0028, 0002) Samples per Pixel                   US: 1\n",
       "(0028, 0004) Photometric Interpretation          CS: 'MONOCHROME2'\n",
       "(0028, 0010) Rows                                US: 1024\n",
       "(0028, 0011) Columns                             US: 1024\n",
       "(0028, 0030) Pixel Spacing                       DS: ['0.14300000000000002', '0.14300000000000002']\n",
       "(0028, 0100) Bits Allocated                      US: 8\n",
       "(0028, 0101) Bits Stored                         US: 8\n",
       "(0028, 0102) High Bit                            US: 7\n",
       "(0028, 0103) Pixel Representation                US: 0\n",
       "(0028, 2110) Lossy Image Compression             CS: '01'\n",
       "(0028, 2114) Lossy Image Compression Method      CS: 'ISO_10918_1'\n",
       "(7fe0, 0010) Pixel Data                          OB: Array of 142006 bytes"
      ]
     },
     "execution_count": 22,
     "metadata": {},
     "output_type": "execute_result"
    }
   ],
   "source": [
    "samplePatientID = list(data[:3].T.to_dict().values())[0]['patientId']\n",
    "samplePatientID = samplePatientID+'.dcm'\n",
    "dicom_file_path = os.path.join(\"../input/stage_2_train_images/\",samplePatientID)\n",
    "dicom_file_dataset = dcm.read_file(dicom_file_path)\n",
    "dicom_file_dataset"
   ]
  },
  {
   "cell_type": "markdown",
   "metadata": {
    "_uuid": "1fd5011f67df5740fe41c1527960a358b919556d"
   },
   "source": [
    "We can observe that we do have available some useful information in the DICOM metadata with predictive value, for example:\n",
    "\n",
    "Patient sex;\n",
    "Patient age;\n",
    "Modality;\n",
    "Body part examined;\n",
    "View position;\n",
    "Rows & Columns;\n",
    "Pixel Spacing.\n",
    "\n",
    "### Train data\n",
    "\n",
    "We will parse the DICOM meta information and add it to the train dataset. We will do the same with the test data."
   ]
  },
  {
   "cell_type": "code",
   "execution_count": 23,
   "metadata": {
    "_uuid": "f23b743ba3aa07d7ca494d587bb1847d156a77e3"
   },
   "outputs": [],
   "source": [
    "vars = ['Modality', 'PatientAge', 'PatientSex', 'BodyPartExamined', 'ViewPosition', 'ConversionType', 'Rows', 'Columns', 'PixelSpacing']\n",
    "\n",
    "def process_dicom_data(data_df, data_path):\n",
    "    for var in vars:\n",
    "        data_df[var] = None\n",
    "    image_names = os.listdir(data_path)\n",
    "    for i, img_name in tqdm_notebook(enumerate(image_names)):\n",
    "        imagePath = os.path.join(data_path,img_name)\n",
    "        data_row_img_data = dcm.read_file(imagePath)\n",
    "        idx = (data_df['patientId']==data_row_img_data.PatientID)\n",
    "        data_df.loc[idx,'Modality'] = data_row_img_data.Modality\n",
    "        data_df.loc[idx,'PatientAge'] = pd.to_numeric(data_row_img_data.PatientAge)\n",
    "        data_df.loc[idx,'PatientSex'] = data_row_img_data.PatientSex\n",
    "        data_df.loc[idx,'BodyPartExamined'] = data_row_img_data.BodyPartExamined\n",
    "        data_df.loc[idx,'ViewPosition'] = data_row_img_data.ViewPosition\n",
    "        data_df.loc[idx,'ConversionType'] = data_row_img_data.ConversionType\n",
    "        data_df.loc[idx,'Rows'] = data_row_img_data.Rows\n",
    "        data_df.loc[idx,'Columns'] = data_row_img_data.Columns  \n",
    "        data_df.loc[idx,'PixelSpacing'] = str.format(\"{:4.3f}\",data_row_img_data.PixelSpacing[0])"
   ]
  },
  {
   "cell_type": "code",
   "execution_count": 24,
   "metadata": {
    "_uuid": "ba6d49a58984f06dd2597a4328938146b47f76ae"
   },
   "outputs": [
    {
     "data": {
      "application/vnd.jupyter.widget-view+json": {
       "model_id": "7b212fae462a4b1eac1257fe7aafa7f1",
       "version_major": 2,
       "version_minor": 0
      },
      "text/plain": [
       "HBox(children=(IntProgress(value=1, bar_style='info', max=1), HTML(value='')))"
      ]
     },
     "metadata": {},
     "output_type": "display_data"
    }
   ],
   "source": [
    "process_dicom_data(data,'../input/stage_2_train_images/')"
   ]
  },
  {
   "cell_type": "code",
   "execution_count": 25,
   "metadata": {
    "_uuid": "fa74d286e53e672d148cc7197bd2a64dd1089471"
   },
   "outputs": [],
   "source": [
    "data.to_csv('data.csv')"
   ]
  },
  {
   "cell_type": "markdown",
   "metadata": {
    "_uuid": "f9052d0670b1b881cf22468e205bdb31d1d37214"
   },
   "source": [
    "Let's get into more details for the train dataset. First, let's check the distribution of PA and AP.\n",
    "\n"
   ]
  },
  {
   "cell_type": "code",
   "execution_count": 26,
   "metadata": {
    "_uuid": "7176165be32f70de8331d22ab78dea914ca04164"
   },
   "outputs": [],
   "source": [
    "def get_feature_distribution(data, feature):\n",
    "    # Get the count for each label\n",
    "    label_counts = data[feature].value_counts()\n",
    "\n",
    "    # Get total number of samples\n",
    "    total_samples = len(data)\n",
    "\n",
    "    # Count the number of items in each class\n",
    "    print(\"Feature: {}\".format(feature))\n",
    "    for i in range(len(label_counts)):\n",
    "        label = label_counts.index[i]\n",
    "        count = label_counts.values[i]\n",
    "        percent = int((count / total_samples) * 10000) / 100\n",
    "        print(\"{:<30s}:   {} or {}%\".format(label, count, percent))"
   ]
  },
  {
   "cell_type": "code",
   "execution_count": 27,
   "metadata": {
    "_uuid": "23433b42193ed4a488dfa2f47f15ade88fcdeb90"
   },
   "outputs": [
    {
     "name": "stdout",
     "output_type": "stream",
     "text": [
      "Feature: ViewPosition\n",
      "PA                            :   14511 or 54.38%\n",
      "AP                            :   12173 or 45.61%\n"
     ]
    }
   ],
   "source": [
    "get_feature_distribution(data,'ViewPosition')"
   ]
  },
  {
   "cell_type": "markdown",
   "metadata": {
    "_uuid": "8b4b121a76590becbfe9d90a7b372b8b1f651645"
   },
   "source": [
    "Both AP and PA body positions are present in the data. The meaning of these view positions are:\n",
    "\n",
    "AP - Anterior/Posterior;\n",
    "\n",
    "PA - Posterior/Anterior.\n",
    "\n",
    "Patient Age\n",
    "\n",
    "Let's examine now the data for the Patient Age for the train set."
   ]
  },
  {
   "cell_type": "code",
   "execution_count": 28,
   "metadata": {
    "_uuid": "0ed04c81d881644c8041b2c19e50e70c5f65413f"
   },
   "outputs": [],
   "source": [
    "tmp = data.groupby(['Target', 'PatientAge'])['patientId'].count()\n",
    "df = pd.DataFrame(data={'Exams': tmp.values}, index=tmp.index).reset_index()\n",
    "tmp = df.groupby(['Exams','Target', 'PatientAge']).count()\n",
    "df2 = pd.DataFrame(data=tmp.values, index=tmp.index).reset_index()"
   ]
  },
  {
   "cell_type": "code",
   "execution_count": 29,
   "metadata": {
    "_uuid": "9a8dca4524c90132f0e97fdf136ef498a9f0b855"
   },
   "outputs": [],
   "source": [
    "tmp = data.groupby(['class', 'PatientAge'])['patientId'].count()\n",
    "df1 = pd.DataFrame(data={'Exams': tmp.values}, index=tmp.index).reset_index()\n",
    "tmp = df1.groupby(['Exams','class', 'PatientAge']).count()\n",
    "df3 = pd.DataFrame(data=tmp.values, index=tmp.index).reset_index()"
   ]
  },
  {
   "cell_type": "code",
   "execution_count": 30,
   "metadata": {
    "_uuid": "e00379b4c137dd72a54f33a79d08b41363f92e0c"
   },
   "outputs": [
    {
     "data": {
      "image/png": "[encoded data removed]",
      "text/plain": [
       "<Figure size 1152x432 with 1 Axes>"
      ]
     },
     "metadata": {},
     "output_type": "display_data"
    },
    {
     "data": {
      "text/plain": [
       "<Figure size 432x288 with 0 Axes>"
      ]
     },
     "metadata": {},
     "output_type": "display_data"
    }
   ],
   "source": [
    "fig, (ax) = plt.subplots(nrows=1,figsize=(16,6))\n",
    "sns.barplot(ax=ax, x = 'PatientAge', y='Exams', hue='Target',data=df2)\n",
    "plt.title(\"Training set: Chest exams Age and Target\")\n",
    "plt.xticks(rotation=90)\n",
    "plt.show()\n",
    "plt.savefig('patient.png')"
   ]
  },
  {
   "cell_type": "code",
   "execution_count": 31,
   "metadata": {
    "_uuid": "3aacb7e7933180a57ac3c1d6eee1ef534e07b915"
   },
   "outputs": [
    {
     "data": {
      "image/png": "[encoded data removed]",
      "text/plain": [
       "<Figure size 1152x432 with 1 Axes>"
      ]
     },
     "metadata": {},
     "output_type": "display_data"
    },
    {
     "data": {
      "text/plain": [
       "<Figure size 432x288 with 0 Axes>"
      ]
     },
     "metadata": {},
     "output_type": "display_data"
    }
   ],
   "source": [
    "fig, (ax) = plt.subplots(nrows=1,figsize=(16,6))\n",
    "sns.barplot(ax=ax, x = 'PatientAge', y='Exams', hue='class',data=df3)\n",
    "plt.title(\"Training set: Chest exams Age and Class\")\n",
    "plt.xticks(rotation=90)\n",
    "plt.show()\n",
    "plt.savefig('class.png')"
   ]
  },
  {
   "cell_type": "markdown",
   "metadata": {
    "_uuid": "4c8b8b3013c250e370034bff82c4826a236d45eb"
   },
   "source": [
    "Note: most probably, the values of age 148 to 155 are mistakes.\n",
    "\n",
    "Let's group the ages in 5 groups (0-19, 20-34, 35-49, 50-64 and 65+).\n",
    "\n",
    "Patient Sex\n",
    "\n",
    "Let's examine now the data for the Patient Sex.\n",
    "\n",
    "We represent the number of Exams for each Patient Sex, grouped by value of Target."
   ]
  },
  {
   "cell_type": "code",
   "execution_count": 32,
   "metadata": {
    "_uuid": "f5061d4056719c601592aaab0dfaf26e27b41ec7"
   },
   "outputs": [
    {
     "data": {
      "image/png": "[encoded data removed]",
      "text/plain": [
       "<Figure size 432x432 with 1 Axes>"
      ]
     },
     "metadata": {},
     "output_type": "display_data"
    }
   ],
   "source": [
    "\n",
    "tmp = data.groupby(['Target', 'PatientSex'])['patientId'].count()\n",
    "df = pd.DataFrame(data={'Exams': tmp.values}, index=tmp.index).reset_index()\n",
    "tmp = df.groupby(['Exams','Target', 'PatientSex']).count()\n",
    "df2 = pd.DataFrame(data=tmp.values, index=tmp.index).reset_index()\n",
    "fig, ax = plt.subplots(nrows=1,figsize=(6,6))\n",
    "sns.barplot(ax=ax, x = 'PatientSex', y='Exams', hue='Target',data=df2)\n",
    "plt.title(\"Train set: Patient Sex and Target\")\n",
    "plt.show()"
   ]
  },
  {
   "cell_type": "markdown",
   "metadata": {
    "_uuid": "fa5fe6e4d3ebe8f3a2ba60ff3ebf0dd197617b4c"
   },
   "source": [
    "We represent the number of Exams for each Patient Sex, grouped by value of class.\n",
    "\n"
   ]
  },
  {
   "cell_type": "code",
   "execution_count": 33,
   "metadata": {
    "_uuid": "1b291be1704f3d158dd190f0f98d49ca38a64c2d"
   },
   "outputs": [
    {
     "data": {
      "image/png": "[encoded data removed]",
      "text/plain": [
       "<Figure size 432x432 with 1 Axes>"
      ]
     },
     "metadata": {},
     "output_type": "display_data"
    }
   ],
   "source": [
    "tmp = data.groupby(['class', 'PatientSex'])['patientId'].count()\n",
    "df1 = pd.DataFrame(data={'Exams': tmp.values}, index=tmp.index).reset_index()\n",
    "tmp = df1.groupby(['Exams','class', 'PatientSex']).count()\n",
    "df3 = pd.DataFrame(data=tmp.values, index=tmp.index).reset_index()\n",
    "fig, (ax) = plt.subplots(nrows=1,figsize=(6,6))\n",
    "sns.barplot(ax=ax, x = 'PatientSex', y='Exams', hue='class',data=df3)\n",
    "plt.title(\"Train set: Patient Sex and class\")\n",
    "plt.show()"
   ]
  },
  {
   "cell_type": "code",
   "execution_count": 34,
   "metadata": {
    "_uuid": "46049121a82ef08ae67876a85b65dac4b8f2a733"
   },
   "outputs": [],
   "source": []
  }
 ],
 "metadata": {
  "kernelspec": {
   "display_name": "Python 3",
   "language": "python",
   "name": "python3"
  },
  "language_info": {
   "codemirror_mode": {
    "name": "ipython",
    "version": 3
   },
   "file_extension": ".py",
   "mimetype": "text/x-python",
   "name": "python",
   "nbconvert_exporter": "python",
   "pygments_lexer": "ipython3",
   "version": "3.6.6"
  }
 },
 "nbformat": 4,
 "nbformat_minor": 1
}
