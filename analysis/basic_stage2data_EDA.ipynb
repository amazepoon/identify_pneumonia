{
 "cells": [
  {
   "cell_type": "code",
   "execution_count": 1,
   "metadata": {
    "_cell_guid": "b1076dfc-b9ad-4769-8c92-a6c4dae69d19",
    "_uuid": "8f2839f25d086af736a60e9eeb907d3b93b6e0e5"
   },
   "outputs": [],
   "source": [
    "# first pass analysis"
   ]
  },
  {
   "cell_type": "code",
   "execution_count": 2,
   "metadata": {
    "_uuid": "83c74cdf44b27e6b206556b8979bf54eda588e30"
   },
   "outputs": [
    {
     "name": "stdout",
     "output_type": "stream",
     "text": [
      "['stage_2_test_images', 'stage_2_sample_submission.csv', 'stage_2_detailed_class_info.csv', 'stage_2_train_images', 'stage_2_train_labels.csv', 'GCP Credits Request Link - RSNA.txt']\n"
     ]
    }
   ],
   "source": [
    "import os\n",
    "print (os.listdir(\"../input\"))"
   ]
  },
  {
   "cell_type": "code",
   "execution_count": 3,
   "metadata": {
    "_uuid": "bcf5a64aee5c512e5a32f3a9da51a84fcc4c626c"
   },
   "outputs": [
    {
     "name": "stdout",
     "output_type": "stream",
     "text": [
      "Total unique rows in csv file 'stage_2_train_labels.csv': 26684\r\n"
     ]
    }
   ],
   "source": [
    "!printf \"Total unique rows in csv file 'stage_2_train_labels.csv': \"; \\\n",
    "         grep -v \"patientId,x,y,width,height,Target\" ../input/stage_2_train_labels.csv | cut -d \",\" -f 1 | sort | uniq | wc -l"
   ]
  },
  {
   "cell_type": "code",
   "execution_count": 4,
   "metadata": {
    "_cell_guid": "79c7e3d0-c299-4dcb-8224-4455121ee9b0",
    "_uuid": "d629ff2d2480ee46fbb7e2d37f6b5fab8052498a"
   },
   "outputs": [
    {
     "name": "stdout",
     "output_type": "stream",
     "text": [
      "First 10 rows, including header, in stage_2_train_labels.csv: \r\n",
      "\r\n",
      "patientId,x,y,width,height,Target\r\n",
      "0004cfab-14fd-4e49-80ba-63a80b6bddd6,,,,,0\r\n",
      "00313ee0-9eaa-42f4-b0ab-c148ed3241cd,,,,,0\r\n",
      "00322d4d-1c29-4943-afc9-b6754be640eb,,,,,0\r\n",
      "003d8fa0-6bf1-40ed-b54c-ac657f8495c5,,,,,0\r\n",
      "00436515-870c-4b36-a041-de91049b9ab4,264.0,152.0,213.0,379.0,1\r\n",
      "00436515-870c-4b36-a041-de91049b9ab4,562.0,152.0,256.0,453.0,1\r\n",
      "00569f44-917d-4c86-a842-81832af98c30,,,,,0\r\n",
      "006cec2e-6ce2-4549-bffa-eadfcd1e9970,,,,,0\r\n",
      "00704310-78a8-4b38-8475-49f4573b2dbb,323.0,577.0,160.0,104.0,1\r\n"
     ]
    }
   ],
   "source": [
    "!printf \"First 10 rows, including header, in stage_2_train_labels.csv: \\n\\n\"; \\\n",
    "         head -10 ../input/stage_2_train_labels.csv"
   ]
  },
  {
   "cell_type": "code",
   "execution_count": 5,
   "metadata": {
    "_uuid": "038b8ce3e963695cdd7001155b3bb878c32bb810"
   },
   "outputs": [
    {
     "name": "stdout",
     "output_type": "stream",
     "text": [
      "Total unique rows in csv file 'stage_2_detailed_class_info.csv': 26684\r\n"
     ]
    }
   ],
   "source": [
    "!printf \"Total unique rows in csv file 'stage_2_detailed_class_info.csv': \"; \\\n",
    "         grep -v \"patientId,class\" ../input/stage_2_detailed_class_info.csv | cut -d \",\" -f 1 | sort | uniq | wc -l"
   ]
  },
  {
   "cell_type": "code",
   "execution_count": 6,
   "metadata": {
    "_uuid": "5dc6570775bf2bb0de0af4786e0ee1fd3dd1513b",
    "scrolled": true
   },
   "outputs": [
    {
     "name": "stdout",
     "output_type": "stream",
     "text": [
      "First 10 rows in stage_2_detailed_class_info.csv:\r\n",
      "\r\n",
      "patientId,class\r\n",
      "0004cfab-14fd-4e49-80ba-63a80b6bddd6,No Lung Opacity / Not Normal\r\n",
      "00313ee0-9eaa-42f4-b0ab-c148ed3241cd,No Lung Opacity / Not Normal\r\n",
      "00322d4d-1c29-4943-afc9-b6754be640eb,No Lung Opacity / Not Normal\r\n",
      "003d8fa0-6bf1-40ed-b54c-ac657f8495c5,Normal\r\n",
      "00436515-870c-4b36-a041-de91049b9ab4,Lung Opacity\r\n",
      "00436515-870c-4b36-a041-de91049b9ab4,Lung Opacity\r\n",
      "00569f44-917d-4c86-a842-81832af98c30,No Lung Opacity / Not Normal\r\n",
      "006cec2e-6ce2-4549-bffa-eadfcd1e9970,No Lung Opacity / Not Normal\r\n",
      "00704310-78a8-4b38-8475-49f4573b2dbb,Lung Opacity\r\n"
     ]
    }
   ],
   "source": [
    "!printf \"First 10 rows in stage_2_detailed_class_info.csv:\\n\\n\"; \\\n",
    "         head -10 ../input/stage_2_detailed_class_info.csv"
   ]
  },
  {
   "cell_type": "code",
   "execution_count": 7,
   "metadata": {
    "_uuid": "05141477bcb16f5941332cd9c84acf4179a40a79"
   },
   "outputs": [
    {
     "name": "stdout",
     "output_type": "stream",
     "text": [
      "High-level totals on unique examples provided: \r\n",
      "\r\n",
      "Normal examples: 8851\r\n",
      "Pneumonia examples: 6012\r\n",
      "Other abnormal examples: 11821\r\n",
      "Total examples:: 26684\r\n"
     ]
    }
   ],
   "source": [
    "!printf \"High-level totals on unique examples provided: \\n\\n\"\n",
    "!printf \"Normal examples: \";grep \",Normal\" ../input/stage_2_detailed_class_info.csv | cut -d \",\" -f 1 | sort | uniq | wc -l\n",
    "!printf \"Pneumonia examples: \"; grep \",Lung\\sOpacity\" ../input/stage_2_detailed_class_info.csv | cut -d \",\" -f 1 | sort | uniq | wc -l\n",
    "!printf \"Other abnormal examples: \"; grep \",No\\sLung\\sOpacity\\s\\/\\sNot\\sNormal\" ../input/stage_2_detailed_class_info.csv | cut -d \",\" -f 1 | sort | uniq | wc -l\n",
    "!printf \"Total examples:: \"; grep -v \"patientId,class\" ../input/stage_2_detailed_class_info.csv | cut -d \",\" -f 1 | sort | uniq | wc -l"
   ]
  },
  {
   "cell_type": "code",
   "execution_count": 8,
   "metadata": {
    "_uuid": "c7730252a679d688db5b00156efaabd15297f7de"
   },
   "outputs": [
    {
     "name": "stdout",
     "output_type": "stream",
     "text": [
      "Training examples provided: 26684\n"
     ]
    }
   ],
   "source": [
    "# sanity check from images\n",
    "# number of training examples\n",
    "print (\"Training examples provided: {}\".format(len(os.listdir(\"../input/stage_2_train_images\"))))"
   ]
  },
  {
   "cell_type": "code",
   "execution_count": 9,
   "metadata": {
    "_uuid": "41a1e3cc84bb9250e76a5cf9f28d61388bbc793c"
   },
   "outputs": [
    {
     "name": "stdout",
     "output_type": "stream",
     "text": [
      "Test cases to be predicted: 3000\n"
     ]
    }
   ],
   "source": [
    "# number of test cases\n",
    "print (\"Test cases to be predicted: {}\".format(len(os.listdir(\"../input/stage_2_test_images\"))))"
   ]
  }
 ],
 "metadata": {
  "kernelspec": {
   "display_name": "Python 3",
   "language": "python",
   "name": "python3"
  },
  "language_info": {
   "codemirror_mode": {
    "name": "ipython",
    "version": 3
   },
   "file_extension": ".py",
   "mimetype": "text/x-python",
   "name": "python",
   "nbconvert_exporter": "python",
   "pygments_lexer": "ipython3",
   "version": "3.6.6"
  }
 },
 "nbformat": 4,
 "nbformat_minor": 1
}
